{
 "cells": [
  {
   "cell_type": "code",
   "execution_count": 2,
   "metadata": {},
   "outputs": [],
   "source": [
    "from selenium.webdriver import Chrome\n",
    "import time\n",
    "import os\n",
    "\n",
    "url = \"https://www.ctbcbank.com/twrbo/zh_tw/cc_index/cc_product/cc_introduction_index.html\"\n",
    "\n",
    "# 開啟並取得國泰信用卡網頁。\n",
    "driver = Chrome(\"./chromedriver.exe\")\n",
    "# 注意是否要放大，或自訂螢幕大小。\n",
    "driver.maximize_window()\n",
    "time.sleep(1)\n",
    "driver.get(url)"
   ]
  },
  {
   "cell_type": "code",
   "execution_count": null,
   "metadata": {},
   "outputs": [],
   "source": [
    "#滾輪往下滾\n",
    "def scrolltop(pos):\n",
    "    js = \"document.documentElement.scrollTop=%s\" % pos\n",
    "    driver.execute_script(js)\n",
    "    \n",
    "#滾輪滾到底\n",
    "def scrolldown():\n",
    "    js = \"document.documentElement.scrollTop=10000\"\n",
    "    driver.execute_script(js)\n",
    "    \n",
    "#去到下一頁\n",
    "def backpage(page):\n",
    "    driver.find_element_by_class_name(\n",
    "        \"twrbo-c-controller twrbo-c-controller--next\").click()\n",
    "    # 給他三秒鐘的時間跑\n",
    "    time.sleep(3)"
   ]
  },
  {
   "cell_type": "code",
   "execution_count": null,
   "metadata": {},
   "outputs": [],
   "source": [
    "# 起始位置設為200，注意螢幕大小，我的螢幕為14吋。\n",
    "page = 1\n",
    "while page < 5:\n",
    "    pos = 200\n",
    "    for i in range(10):\n",
    "        pos += 220\n",
    "        scrolltop(pos)\n",
    "        # 注意抓取的值為list，要一個一個取出。\n",
    "        driver.find_elements_by_xpath(\"//div[@class='card-features']/a[@class='link-learn-more']\")[i].click()\n",
    "        print(\"現在到第幾頁:\", page, \"到第幾張卡片:\", i + 1)\n",
    "        time.sleep(1)\n",
    "        if page == 1:\n",
    "            driver.back()\n",
    "            scrolltop(pos)\n",
    "            time.sleep(1)\n",
    "        else:\n",
    "            driver.back()\n",
    "            scrolldown()\n",
    "            backpage(page)\n",
    "    page += 1\n",
    "    backpage(page)\n",
    "print(\"好像沒東西喔!!!\")"
   ]
  }
 ],
 "metadata": {
  "kernelspec": {
   "display_name": "Python 3",
   "language": "python",
   "name": "python3"
  },
  "language_info": {
   "codemirror_mode": {
    "name": "ipython",
    "version": 3
   },
   "file_extension": ".py",
   "mimetype": "text/x-python",
   "name": "python",
   "nbconvert_exporter": "python",
   "pygments_lexer": "ipython3",
   "version": "3.7.4"
  }
 },
 "nbformat": 4,
 "nbformat_minor": 2
}
