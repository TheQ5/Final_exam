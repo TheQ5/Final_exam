{
 "cells": [
  {
   "cell_type": "code",
   "execution_count": null,
   "metadata": {},
   "outputs": [],
   "source": [
    "from selenium.webdriver import Chrome\n",
    "import time\n",
    "import os\n",
    "\n",
    "url = \"https://www.cathaybk.com.tw/cathaybk/personal/credit-card/cards/intro/list/\"\n",
    "\n",
    "# 開啟並取得國泰信用卡網頁。\n",
    "driver = Chrome(\"./chromedriver.exe\")\n",
    "# 注意是否要放大，或自訂螢幕大小。\n",
    "driver.maximize_window()\n",
    "time.sleep(1)\n",
    "driver.get(url)\n",
    "\n",
    "def scrolltop(pos):\n",
    "    js = \"document.documentElement.scrollTop=%s\" % pos\n",
    "    driver.execute_script(js)\n",
    "    \n",
    "\n",
    "# 起始位置設為200，注意螢幕大小，我的螢幕為14吋。\n",
    "page = 1\n",
    "while page<5:    \n",
    "    pos = 200\n",
    "    for i in range(10):\n",
    "        pos += 320\n",
    "        scrolltop(pos)\n",
    "        # 注意抓取的值為list，要一個一個取出。\n",
    "        driver.find_elements_by_xpath(\"//div[@class='card-features']/a[@class='link-learn-more']\")[i].click()\n",
    "        time.sleep(1)\n",
    "        driver.back()\n",
    "        print(\"現在到第幾頁:\",page,\"到第幾張卡片:\", i+1)\n",
    "        scrolltop(pos)\n",
    "        time.sleep(1)\n",
    "    driver.find_element_by_id(\"layout_0_rightcontent_0_updatepanel_1_RptPagination_HlkPageNumber_\"+str(page)).click()\n",
    "    page += 1\n",
    "print(\"好像沒東西喔!!!\")\n"
   ]
  }
 ],
 "metadata": {
  "kernelspec": {
   "display_name": "Python 3",
   "language": "python",
   "name": "python3"
  },
  "language_info": {
   "codemirror_mode": {
    "name": "ipython",
    "version": 3
   },
   "file_extension": ".py",
   "mimetype": "text/x-python",
   "name": "python",
   "nbconvert_exporter": "python",
   "pygments_lexer": "ipython3",
   "version": "3.7.4"
  }
 },
 "nbformat": 4,
 "nbformat_minor": 2
}
