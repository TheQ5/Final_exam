{
 "cells": [
  {
   "cell_type": "code",
   "execution_count": 81,
   "metadata": {},
   "outputs": [],
   "source": [
    "from selenium.webdriver import Chrome\n",
    "import time\n",
    "driver = Chrome(\"./chromedriver\")\n",
    "#打開網址\n",
    "driver.get(\"https://www.cathaybk.com.tw/cathaybk/personal/credit-card/cards/intro/list/\")"
   ]
  },
  {
   "cell_type": "code",
   "execution_count": 82,
   "metadata": {},
   "outputs": [
    {
     "name": "stdout",
     "output_type": "stream",
     "text": [
      "page= 0\n",
      "我在第 1 頁\n",
      "page= 1\n",
      "我在第 2 頁\n",
      "page= 2\n",
      "我在第 3 頁\n",
      "page= 3\n",
      "我在第 4 頁\n"
     ]
    }
   ],
   "source": [
    "#每個迴圈都要停一下 確定指令運作已完成,不然有時候跑太快 頁面還沒捲下去會找不到id\n",
    "#確定你要的id有在畫面上,不然原始碼可能不會載入\n",
    "\n",
    "\n",
    "#抓取每一個分頁的卡片名稱\n",
    "title = []\n",
    "for page in range(4):\n",
    "    print(\"page=\",page)\n",
    "    time.sleep(1)\n",
    "    js=\"var action=document.documentElement.scrollTop=10000\"\n",
    "    time.sleep(1)\n",
    "    driver.execute_script(js)\n",
    "    time.sleep(1)\n",
    "    driver.find_element_by_id(\"layout_0_rightcontent_0_updatepanel_1_RptPagination_HlkPageNumber_\"+str(page)).click()\n",
    "    time.sleep(1)\n",
    "    print(\"我在第\",page+1,\"頁\")\n",
    "    ps = driver.find_elements_by_class_name(\"card-name\")\n",
    "    for p in ps:\n",
    "        name = p.text\n",
    "        title.append(name)"
   ]
  },
  {
   "cell_type": "code",
   "execution_count": 124,
   "metadata": {},
   "outputs": [
    {
     "name": "stdout",
     "output_type": "stream",
     "text": [
      "['世界卡', '蝦皮購物聯名卡', 'KOKOicash聯名卡', 'KOKOCOMBOicash聯名卡', '亞洲萬里通聯名卡', '長榮航空聯名卡', '台塑聯名卡', 'Costco聯名卡', '享購鈦金卡', '現金回饋御璽卡', 'KOKO悠遊聯名卡', '鈦金商務卡', '尊榮御璽卡卡', '白金卡', '雙幣卡', 'eTag聯名卡', '遠東SOGO(悠遊)聯名卡', '太平洋SOGO百貨聯名卡', '國泰人壽聯名卡', '商務卡', 'KOKO簽帳金融卡', 'ｉ刷悠遊Debit卡', 'ｉ刷金融卡', 'NFC行動信用卡(停發)', '藝術卡(金/普卡，已停發)', '聯合報優秀卡(停發)', 'COMBO財富卡', '悠遊聯名卡', 'TaiwanMoney卡', 'W@card', '國民旅遊卡']\n",
      "31\n"
     ]
    }
   ],
   "source": [
    "#整理list內容,把為空的部分去除掉\n",
    "#並且把字之間的空白去掉\n",
    "title = [x for x in title if x != '']\n",
    "title2 = []\n",
    "for y in title:\n",
    "    y = y.replace(\" \", \"\")\n",
    "    y = y.replace(\"(COMBO)\", \"\")\n",
    "    title2.append(y)\n",
    "print(title2)\n",
    "print(len(title2))"
   ]
  },
  {
   "cell_type": "code",
   "execution_count": 122,
   "metadata": {},
   "outputs": [
    {
     "name": "stdout",
     "output_type": "stream",
     "text": [
      "世界卡\n",
      "蝦皮購物聯名卡\n",
      "KOKOicash聯名卡\n",
      "KOKOCOMBOicash聯名卡\n",
      "亞洲萬里通聯名卡\n",
      "我爬 長榮航空聯名卡 遇到困難\n",
      "台塑聯名卡\n",
      "Costco聯名卡\n",
      "我爬 享購鈦金卡 遇到困難\n",
      "現金回饋御璽卡\n",
      "第 1 頁完成了\n",
      "我爬 KOKO(COMBO)悠遊聯名卡 遇到困難\n",
      "蝦皮購物聯名卡\n",
      "我爬 尊榮御璽卡(COMBO)卡 遇到困難\n",
      "我爬 白金卡 遇到困難\n",
      "我爬 雙幣卡 遇到困難\n",
      "我爬 eTag聯名卡 遇到困難\n",
      "我爬 遠東SOGO(悠遊)聯名卡 遇到困難\n",
      "我爬 太平洋SOGO百貨聯名卡 遇到困難\n",
      "我爬 國泰人壽聯名卡 遇到困難\n",
      "我爬 商務卡 遇到困難\n",
      "第 2 頁完成了\n",
      "我爬 KOKO簽帳金融卡 遇到困難\n",
      "我爬 ｉ刷悠遊Debit卡 遇到困難\n",
      "我爬 ｉ刷金融卡 遇到困難\n",
      "我爬 NFC行動信用卡(停發) 遇到困難\n",
      "我爬 藝術卡(金/普卡，已停發) 遇到困難\n",
      "我爬 聯合報優秀卡(停發) 遇到困難\n",
      "台塑聯名卡\n",
      "我爬 (COMBO)悠遊聯名卡 遇到困難\n",
      "我爬 TaiwanMoney卡 遇到困難\n",
      "我爬 W@card 遇到困難\n",
      "第 3 頁完成了\n",
      "世界卡\n",
      "失敗了\n"
     ]
    }
   ],
   "source": [
    "#scrollTop=500是絕對位子\n",
    "i = 0\n",
    "j = 500\n",
    "for page in range(4):\n",
    "    js=\"var action=document.documentElement.scrollTop=10000\"\n",
    "    driver.execute_script(js)\n",
    "    driver.find_element_by_id(\"layout_0_rightcontent_0_updatepanel_1_RptPagination_HlkPageNumber_\"+str(page)).click()\n",
    "    time.sleep(1)\n",
    "    times = 0\n",
    "    try:\n",
    "        for x in title2:\n",
    "            if times < 10:\n",
    "                try:\n",
    "                    js=\"var action=document.documentElement.scrollTop=\"+str(j)\n",
    "                    driver.execute_script(js)\n",
    "                    #進到卡片裡拿資料\n",
    "                    driver.find_element_by_id(\"lnk_creditcardlistinfo-component_CardDetailLink_\"+title2[i]).click()\n",
    "                    i += 1\n",
    "                    j += 300\n",
    "                    times += 1\n",
    "                    print(title2[i])\n",
    "                    #取完後回上一頁\n",
    "                    driver.back()\n",
    "                    time.sleep(1)\n",
    "                except:\n",
    "                    print(\"我爬\",title2[i],\"遇到困難\")\n",
    "                    i += 1\n",
    "                    j += 300\n",
    "                    times += 1\n",
    "            else:\n",
    "                print(\"第\",page+1,\"頁完成了\")\n",
    "                break\n",
    "    except:\n",
    "        print(\"失敗了\")\n",
    "        continue\n",
    "        \n",
    "dr.get_attribute('data-original-title')  #获取tooltip的内容\n",
    "dr.text  #获取该链接的text"
   ]
  },
  {
   "cell_type": "code",
   "execution_count": 107,
   "metadata": {},
   "outputs": [
    {
     "name": "stdout",
     "output_type": "stream",
     "text": [
      "jjjjj\n"
     ]
    }
   ],
   "source": []
  },
  {
   "cell_type": "code",
   "execution_count": null,
   "metadata": {},
   "outputs": [],
   "source": []
  }
 ],
 "metadata": {
  "kernelspec": {
   "display_name": "Python 3",
   "language": "python",
   "name": "python3"
  },
  "language_info": {
   "codemirror_mode": {
    "name": "ipython",
    "version": 3
   },
   "file_extension": ".py",
   "mimetype": "text/x-python",
   "name": "python",
   "nbconvert_exporter": "python",
   "pygments_lexer": "ipython3",
   "version": "3.7.4"
  }
 },
 "nbformat": 4,
 "nbformat_minor": 2
}
