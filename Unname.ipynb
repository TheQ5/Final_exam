{
 "cells": [
  {
   "cell_type": "code",
   "execution_count": 58,
   "metadata": {},
   "outputs": [],
   "source": [
    "from selenium.webdriver import Chrome\n",
    "import time\n",
    "import os\n",
    "\n",
    "url = \"https://www.cathaybk.com.tw/cathaybk/personal/credit-card/cards/rights/\"\n",
    "\n",
    "# 開啟並取得國泰信用卡網頁。\n",
    "driver = Chrome(\"./chromedriver.exe\")\n",
    "# 注意是否要放大，或自訂螢幕大小。\n",
    "driver.maximize_window()\n",
    "time.sleep(1)\n",
    "driver.get(url)"
   ]
  },
  {
   "cell_type": "code",
   "execution_count": 59,
   "metadata": {},
   "outputs": [],
   "source": [
    "#滾輪往下滾\n",
    "def scrolltop():\n",
    "    js = \"document.documentElement.scrollTop=100\"\n",
    "    driver.execute_script(js)"
   ]
  },
  {
   "cell_type": "code",
   "execution_count": 77,
   "metadata": {
    "scrolled": true
   },
   "outputs": [
    {
     "name": "stdout",
     "output_type": "stream",
     "text": [
      "第 1 項: 國泰人壽保費優惠\n",
      "優惠期間至2019/12/31。\n",
      "特定壽險商品保費1%優惠\n",
      "持本行信用卡刷卡繳付國泰人壽保費，特定壽險商品得享有保費1%的優惠折扣。\n",
      "注意事項：\n",
      "上述保費優惠詳細內容，詳洽國泰人壽客服專線0800-036-599。\n",
      "如有其他未盡事宜，悉以國泰人壽之說明為準。\n",
      "※優惠提供期間，倘因不可歸責於本行之事由，本行得變更或終止優惠內容，並於本行網站公告之。\n",
      "第 2 項: 超值保險\n",
      "\n",
      "第 3 項: 遠東SOGO百貨購物優惠9折\n",
      "\n",
      "第 4 項: 太平洋百貨購物優惠9折\n",
      "\n",
      "第 5 項: 比漾廣場購物優惠9折\n",
      "\n",
      "第 6 項: 機場接送服務\n",
      "\n",
      "第 7 項: 機場外圍免費停車\n",
      "\n",
      "第 8 項: 全年消費分析理財服務\n",
      "\n",
      "第 9 項: 信用卡儲存電子發票功能及中獎通知說明\n",
      "\n",
      "第 10 項: 專屬秘書服務\n",
      "\n",
      "第 11 項: 道路救援服務\n",
      "\n",
      "第 12 項: 全球緊急支援\n",
      "\n"
     ]
    }
   ],
   "source": [
    "x = driver.find_elements_by_class_name(\"item-title\")\n",
    "num = 0\n",
    "scrolltop()\n",
    "for i in x:\n",
    "    i.click()\n",
    "    time.sleep(2)\n",
    "    print(\"第\",num+1,\"項:\",i.text)\n",
    "    word = driver.find_element_by_class_name(\"list\")\n",
    "    print(word.text)\n",
    "    time.sleep(2)\n",
    "    i.click()\n",
    "    time.sleep(2)\n",
    "    num += 1"
   ]
  },
  {
   "cell_type": "code",
   "execution_count": 76,
   "metadata": {
    "collapsed": true
   },
   "outputs": [
    {
     "name": "stdout",
     "output_type": "stream",
     "text": [
      "[<selenium.webdriver.remote.webelement.WebElement (session=\"687241f230b6e6917b32ce7e3f97565a\", element=\"63c0e4de-0ad9-4ab0-b384-c42f332781fa\")>, <selenium.webdriver.remote.webelement.WebElement (session=\"687241f230b6e6917b32ce7e3f97565a\", element=\"f40620c7-69f6-4e6f-a775-590353957c23\")>, <selenium.webdriver.remote.webelement.WebElement (session=\"687241f230b6e6917b32ce7e3f97565a\", element=\"a44d2445-6abe-4017-a8ea-6dc074b52af4\")>, <selenium.webdriver.remote.webelement.WebElement (session=\"687241f230b6e6917b32ce7e3f97565a\", element=\"c3492ee9-8a7d-422e-bda1-0f5045d2a447\")>, <selenium.webdriver.remote.webelement.WebElement (session=\"687241f230b6e6917b32ce7e3f97565a\", element=\"eb6e0dda-38d2-41ac-b91d-cd8d1a782592\")>, <selenium.webdriver.remote.webelement.WebElement (session=\"687241f230b6e6917b32ce7e3f97565a\", element=\"867c4352-9d78-44e2-bbb1-b9a579f821fd\")>, <selenium.webdriver.remote.webelement.WebElement (session=\"687241f230b6e6917b32ce7e3f97565a\", element=\"0e3806a4-0bc9-4682-be8c-c0584fdddbf5\")>, <selenium.webdriver.remote.webelement.WebElement (session=\"687241f230b6e6917b32ce7e3f97565a\", element=\"fbc4bcae-270a-4db8-8173-c598fa504c8b\")>, <selenium.webdriver.remote.webelement.WebElement (session=\"687241f230b6e6917b32ce7e3f97565a\", element=\"f763746e-1a26-4d66-8a4d-0ca92c30442a\")>, <selenium.webdriver.remote.webelement.WebElement (session=\"687241f230b6e6917b32ce7e3f97565a\", element=\"715b08b2-7037-4db5-98d3-5bb708e2e534\")>, <selenium.webdriver.remote.webelement.WebElement (session=\"687241f230b6e6917b32ce7e3f97565a\", element=\"eb6a6fd0-f847-4f39-8174-de1e014e023c\")>, <selenium.webdriver.remote.webelement.WebElement (session=\"687241f230b6e6917b32ce7e3f97565a\", element=\"24fdf429-5d70-4502-896c-500910209485\")>, <selenium.webdriver.remote.webelement.WebElement (session=\"687241f230b6e6917b32ce7e3f97565a\", element=\"667cd07c-20a0-4323-b952-0eccfa618280\")>, <selenium.webdriver.remote.webelement.WebElement (session=\"687241f230b6e6917b32ce7e3f97565a\", element=\"92a8db91-b82c-4563-b92d-67ea13c9761d\")>, <selenium.webdriver.remote.webelement.WebElement (session=\"687241f230b6e6917b32ce7e3f97565a\", element=\"9e5d4c82-1dac-4002-83b7-8f437523c4bb\")>, <selenium.webdriver.remote.webelement.WebElement (session=\"687241f230b6e6917b32ce7e3f97565a\", element=\"46000cb1-165d-4848-ba73-2af4ac707c06\")>, <selenium.webdriver.remote.webelement.WebElement (session=\"687241f230b6e6917b32ce7e3f97565a\", element=\"ccdc9a11-7a0e-4938-9021-71ce002e2323\")>, <selenium.webdriver.remote.webelement.WebElement (session=\"687241f230b6e6917b32ce7e3f97565a\", element=\"a31224d3-3927-4d66-8311-b7cc1421bf48\")>, <selenium.webdriver.remote.webelement.WebElement (session=\"687241f230b6e6917b32ce7e3f97565a\", element=\"7a83741a-50d6-42c9-a1ad-447fc8adce68\")>, <selenium.webdriver.remote.webelement.WebElement (session=\"687241f230b6e6917b32ce7e3f97565a\", element=\"257180a4-deb6-4b50-bcd7-5e95456426c0\")>, <selenium.webdriver.remote.webelement.WebElement (session=\"687241f230b6e6917b32ce7e3f97565a\", element=\"d3a38abc-4117-42ea-8ffd-a697ad44c9ee\")>, <selenium.webdriver.remote.webelement.WebElement (session=\"687241f230b6e6917b32ce7e3f97565a\", element=\"cf22c2d7-7ccf-4775-b50d-09fd7df29a41\")>, <selenium.webdriver.remote.webelement.WebElement (session=\"687241f230b6e6917b32ce7e3f97565a\", element=\"540613f5-9438-4c19-a3e9-d1e8bf4719e5\")>, <selenium.webdriver.remote.webelement.WebElement (session=\"687241f230b6e6917b32ce7e3f97565a\", element=\"4a94238e-724c-4345-b507-2a9dd4724968\")>, <selenium.webdriver.remote.webelement.WebElement (session=\"687241f230b6e6917b32ce7e3f97565a\", element=\"9524095f-1f11-4fe0-9a44-75e7204b94de\")>, <selenium.webdriver.remote.webelement.WebElement (session=\"687241f230b6e6917b32ce7e3f97565a\", element=\"3a0ced67-afdf-43c1-b021-0f9584bc4dcb\")>, <selenium.webdriver.remote.webelement.WebElement (session=\"687241f230b6e6917b32ce7e3f97565a\", element=\"9865307f-2cd9-4ab4-a5cd-b61f28db7bb3\")>, <selenium.webdriver.remote.webelement.WebElement (session=\"687241f230b6e6917b32ce7e3f97565a\", element=\"5fd37845-abec-4d2f-8aa7-1171f0fd60e8\")>, <selenium.webdriver.remote.webelement.WebElement (session=\"687241f230b6e6917b32ce7e3f97565a\", element=\"cb296877-3c08-48d1-a48c-d042e65d95a2\")>, <selenium.webdriver.remote.webelement.WebElement (session=\"687241f230b6e6917b32ce7e3f97565a\", element=\"db8f7111-99f6-43a8-b099-be11a6c2f2d6\")>, <selenium.webdriver.remote.webelement.WebElement (session=\"687241f230b6e6917b32ce7e3f97565a\", element=\"35af11ee-47f2-4413-a3e2-6c1813c28168\")>, <selenium.webdriver.remote.webelement.WebElement (session=\"687241f230b6e6917b32ce7e3f97565a\", element=\"27966fd9-b0de-4d37-a0f7-07390b200815\")>, <selenium.webdriver.remote.webelement.WebElement (session=\"687241f230b6e6917b32ce7e3f97565a\", element=\"c16cd8f1-0caf-460a-9d10-7897b63d460e\")>, <selenium.webdriver.remote.webelement.WebElement (session=\"687241f230b6e6917b32ce7e3f97565a\", element=\"72ccbbc8-02a5-4c7d-89b9-9bbdf3ae123d\")>, <selenium.webdriver.remote.webelement.WebElement (session=\"687241f230b6e6917b32ce7e3f97565a\", element=\"e56cb482-74fd-4b48-a549-9597fa046f3f\")>, <selenium.webdriver.remote.webelement.WebElement (session=\"687241f230b6e6917b32ce7e3f97565a\", element=\"55cc3eb5-a5b3-4cfd-882d-bb362d786041\")>]\n",
      "36\n",
      "\n"
     ]
    }
   ],
   "source": [
    "text = driver.find_elements_by_class_name(\"list\")\n",
    "print(text)\n",
    "print(len(text))\n",
    "print(text[1].text)"
   ]
  },
  {
   "cell_type": "code",
   "execution_count": null,
   "metadata": {},
   "outputs": [],
   "source": []
  }
 ],
 "metadata": {
  "kernelspec": {
   "display_name": "Python 3",
   "language": "python",
   "name": "python3"
  },
  "language_info": {
   "codemirror_mode": {
    "name": "ipython",
    "version": 3
   },
   "file_extension": ".py",
   "mimetype": "text/x-python",
   "name": "python",
   "nbconvert_exporter": "python",
   "pygments_lexer": "ipython3",
   "version": "3.7.4"
  }
 },
 "nbformat": 4,
 "nbformat_minor": 2
}
