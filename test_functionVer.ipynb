{
 "cells": [
  {
   "cell_type": "code",
   "execution_count": 33,
   "metadata": {},
   "outputs": [],
   "source": [
    "# 引用Web Server套件\n",
    "from flask import Flask, request, abort\n",
    "\n",
    "# 從linebot 套件包裡引用 LineBotApi 與 WebhookHandler 類別\n",
    "from linebot import (\n",
    "    LineBotApi, WebhookHandler\n",
    ")\n",
    "\n",
    "# \n",
    "from linebot.exceptions import (\n",
    "    InvalidSignatureError\n",
    ")\n",
    "\n",
    "# 將消息模型，文字收取消息與文字寄發消息 引入\n",
    "from linebot.models import (\n",
    "    MessageEvent, TextMessage, TextSendMessage, ImageMessage, AudioMessage\n",
    ")\n",
    "\n",
    "# 載入設定檔\n",
    "\n",
    "import json\n",
    "secretFileContentJson=json.load(open(\"./line_secret_key\",'r'))\n",
    "server_url=secretFileContentJson.get(\"server_url\")\n",
    "\n",
    "\n",
    "# 設定Server啟用細節\n",
    "app = Flask(__name__,static_url_path = \"/images\" , static_folder = \"./images/\" )\n",
    "\n",
    "# 生成實體物件\n",
    "line_bot_api = LineBotApi(secretFileContentJson.get(\"channel_access_token\"))\n",
    "handler = WebhookHandler(secretFileContentJson.get(\"secret_key\"))\n",
    "\n",
    "# 啟動server對外接口，使Line能丟消息進來\n",
    "@app.route(\"/\", methods=['POST'])\n",
    "def callback():\n",
    "    # get X-Line-Signature header value\n",
    "    signature = request.headers['X-Line-Signature']\n",
    "\n",
    "    # get request body as text\n",
    "    body = request.get_data(as_text=True)\n",
    "    app.logger.info(\"Request body: \" + body)\n",
    "\n",
    "    # handle webhook body\n",
    "    try:\n",
    "        handler.handle(body, signature)\n",
    "    except InvalidSignatureError:\n",
    "        abort(400)\n",
    "\n",
    "    return 'OK'"
   ]
  },
  {
   "cell_type": "code",
   "execution_count": 2,
   "metadata": {},
   "outputs": [],
   "source": [
    "# 載入Follow事件\n",
    "from linebot.models.events import (\n",
    "    FollowEvent\n",
    ")\n",
    "\n",
    "# 載入requests套件\n",
    "import requests\n",
    "\n",
    "\n",
    "# 告知handler，如果收到FollowEvent，則做下面的方法處理\n",
    "@handler.add(FollowEvent)\n",
    "def reply_text_and_get_user_profile(event):\n",
    "    \n",
    "    # 取出消息內User的資料\n",
    "    user_profile = line_bot_api.get_profile(event.source.user_id)\n",
    "        \n",
    "     # 將用戶資訊存在檔案內\n",
    "    with open(\"./users.txt\", \"a\") as myfile:\n",
    "        myfile.write(json.dumps(vars(user_profile),sort_keys=True))\n",
    "        myfile.write('\\r\\n')\n",
    "        \n",
    "        \n",
    "#     # 將菜單綁定在用戶身上\n",
    "#     linkRichMenuId=secretFileContentJson.get(\"rich_menu_id\")\n",
    "#     linkResult=line_bot_api.link_rich_menu_to_user(secretFileContentJson[\"self_user_id\"], linkRichMenuId)\n",
    "    \n",
    "#     # 回覆文字消息與圖片消息\n",
    "#     line_bot_api.reply_message(\n",
    "#         event.reply_token,\n",
    "#         reply_message_list\n",
    "#     )"
   ]
  },
  {
   "cell_type": "code",
   "execution_count": 34,
   "metadata": {},
   "outputs": [],
   "source": [
    "def PushMessage(context, user_ID):\n",
    "    #推播消息\n",
    "    from linebot import LineBotApi\n",
    "    from linebot.models import TextSendMessage\n",
    "    from linebot.exceptions import LineBotApiError\n",
    "\n",
    "    token = \"AhuuqOghydZqwlCbgOHo/JJxADgxz3begLh9bzoK7nCja4ipotAl9pnKi5YAX+1eip/O65jb+4J7kdsOcVf4lViTf/RJiKymXsctgk0gS9WhD8KeNtn1WRgICzk8I3a2oQpDWx4fXcNZfcsPA1chUgdB04t89/1O/w1cDnyilFU=\"\n",
    "\n",
    "    line_bot_api = LineBotApi(token)\n",
    "\n",
    "    try:\n",
    "        line_bot_api.push_message(user_ID, TextSendMessage(text=context))\n",
    "    except LineBotApiError as e:\n",
    "        print(\"error handle\")"
   ]
  },
  {
   "cell_type": "code",
   "execution_count": 4,
   "metadata": {},
   "outputs": [],
   "source": [
    "from aip import AipSpeech\n",
    "import json\n",
    "import time\n",
    "import os\n",
    "import wave\n",
    "from pydub import AudioSegment\n",
    "from bert_sentimentAnalysis_predict import *  ## * 很重要,pip install才可以直接import 自製的py檔要加*\n",
    "from Voice2Text import *\n",
    "from find_similar_question import *\n",
    "from webpage import *"
   ]
  },
  {
   "cell_type": "code",
   "execution_count": 5,
   "metadata": {},
   "outputs": [],
   "source": [
    "@handler.add(MessageEvent, message=AudioMessage)\n",
    "def handle_message(event):\n",
    "    #取出用戶ID\n",
    "    user_ID = line_bot_api.get_profile(event.source.user_id)\n",
    "    user_ID = user_ID.user_id\n",
    "    print(user_ID)\n",
    "    #接收資料,回傳一段訊息給用戶,並將資料取回本機\n",
    "    line_bot_api.reply_message(\n",
    "        event.reply_token,\n",
    "        TextSendMessage(text='沒事亂傳訊息，害我又要加班'))\n",
    "    message_content = line_bot_api.get_message_content(event.message.id)\n",
    "    with open('./audios/'+event.message.id+\".aac\", 'wb') as fd: ###LINE預設音檔是.aac\n",
    "        for chunk in message_content.iter_content():\n",
    "            fd.write(chunk)\n",
    "    #####先轉檔#####\n",
    "    aacPath = \"./audios/\"+event.message.id+\".aac\"\n",
    "    convert_aac_to_wav(aacPath)\n",
    "    \n",
    "    #####這邊要加入語音轉文字#####\n",
    "    wavPath = \"audios\"+event.message.id+\".wav\"\n",
    "    text = voice_to_txt(wavPath)\n",
    "    \n",
    "    #####接著情感分析#####\n",
    "    sign, content = sentimentModel().predict_and_to_pass_sign(text) ###有class的話，要class().function()才能使用　\n",
    "    \n",
    "    #####根據用戶心情分流#####\n",
    "    if sign==0 or sign==1:\n",
    "        PredictQue = find_similiar_questions(text, \"qa_collections.csv\") ###要記得先開伺服器###\n",
    "        print(PredictQue)\n",
    "    #####接到客服頁面#####    \n",
    "        os.system(\"Streamlit run webpage.py %s\"%PredictQue)\n",
    "        print(\"完成了\")\n",
    "    elif sign==2:\n",
    "        PushMessage(content)\n",
    "    else:\n",
    "        PushMessage(content)"
   ]
  },
  {
   "cell_type": "code",
   "execution_count": 36,
   "metadata": {},
   "outputs": [
    {
     "name": "stdout",
     "output_type": "stream",
     "text": [
      " * Serving Flask app \"__main__\" (lazy loading)\n",
      " * Environment: production\n",
      "   WARNING: This is a development server. Do not use it in a production deployment.\n",
      "   Use a production WSGI server instead.\n",
      " * Debug mode: off\n"
     ]
    },
    {
     "name": "stderr",
     "output_type": "stream",
     "text": [
      " * Running on http://0.0.0.0:5000/ (Press CTRL+C to quit)\n",
      "Request body: {\"events\":[{\"type\":\"message\",\"replyToken\":\"a7705a79ae6547bfbdc242764cc72ca1\",\"source\":{\"userId\":\"Ubbe1a0ecaf2b210fd618c919d1d19870\",\"type\":\"user\"},\"timestamp\":1573205495561,\"message\":{\"type\":\"audio\",\"id\":\"10881875836312\",\"contentProvider\":{\"type\":\"line\"},\"duration\":1677}}],\"destination\":\"Uda900883c1baa15ecbd91d241e42d046\"}\n"
     ]
    },
    {
     "name": "stdout",
     "output_type": "stream",
     "text": [
      "Ubbe1a0ecaf2b210fd618c919d1d19870\n",
      "<class 'str'>\n"
     ]
    },
    {
     "name": "stderr",
     "output_type": "stream",
     "text": [
      "127.0.0.1 - - [08/Nov/2019 17:31:36] \"POST / HTTP/1.1\" 200 -\n",
      "Request body: {\"events\":[{\"type\":\"message\",\"replyToken\":\"6202dc275f4d42f6a4fb2ecbb7b578ca\",\"source\":{\"userId\":\"U05c0956a43badf52ce90c7b9c2e3f7fd\",\"type\":\"user\"},\"timestamp\":1573205536751,\"message\":{\"type\":\"audio\",\"id\":\"10881879495168\",\"contentProvider\":{\"type\":\"line\"},\"duration\":2560}}],\"destination\":\"Uda900883c1baa15ecbd91d241e42d046\"}\n"
     ]
    },
    {
     "name": "stdout",
     "output_type": "stream",
     "text": [
      "U05c0956a43badf52ce90c7b9c2e3f7fd\n",
      "<class 'str'>\n"
     ]
    },
    {
     "name": "stderr",
     "output_type": "stream",
     "text": [
      "127.0.0.1 - - [08/Nov/2019 17:32:17] \"POST / HTTP/1.1\" 200 -\n"
     ]
    }
   ],
   "source": [
    "if __name__ == \"__main__\":\n",
    "    app.run(host='0.0.0.0')"
   ]
  },
  {
   "cell_type": "markdown",
   "metadata": {},
   "source": [
    "# TO DO LIST\n",
    "\n",
    "## 即時取得用戶的ID 讓chatbot可以推播給任意用戶\n",
    "\n",
    "## 創建新的ChatBot 頻道\n",
    "\n",
    "## 開頭問候語、美化介面、圖文選單(help跟麥克風)\n",
    "\n",
    "## 包成Docker放到GCP"
   ]
  }
 ],
 "metadata": {
  "kernelspec": {
   "display_name": "Python 3",
   "language": "python",
   "name": "python3"
  },
  "language_info": {
   "codemirror_mode": {
    "name": "ipython",
    "version": 3
   },
   "file_extension": ".py",
   "mimetype": "text/x-python",
   "name": "python",
   "nbconvert_exporter": "python",
   "pygments_lexer": "ipython3",
   "version": "3.7.4"
  }
 },
 "nbformat": 4,
 "nbformat_minor": 2
}
